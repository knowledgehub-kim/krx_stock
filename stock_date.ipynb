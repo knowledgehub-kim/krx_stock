{
 "cells": [
  {
   "cell_type": "code",
   "execution_count": 1,
   "metadata": {
    "collapsed": true,
    "pycharm": {
     "name": "#%%\n"
    }
   },
   "outputs": [],
   "source": [
    "import requests\n",
    "import pandas as pd\n",
    "from datetime import datetime\n",
    "import smtplib\n",
    "from email.mime.multipart import MIMEMultipart\n",
    "from email.mime.text import MIMEText\n",
    "from email.utils import formatdate\n",
    "from email.mime.base import MIMEBase\n",
    "from email.encoders import encode_base64"
   ]
  },
  {
   "cell_type": "code",
   "execution_count": 21,
   "outputs": [
    {
     "data": {
      "text/plain": "'20220505'"
     },
     "execution_count": 21,
     "metadata": {},
     "output_type": "execute_result"
    }
   ],
   "source": [
    "today = str(datetime.now().date()).replace(\"-\", \"\")\n",
    "today"
   ],
   "metadata": {
    "collapsed": false,
    "pycharm": {
     "name": "#%%\n"
    }
   }
  },
  {
   "cell_type": "code",
   "execution_count": 22,
   "outputs": [],
   "source": [
    "def get_stock_indices(date):  ### date type : str(),,, ex) '2010722'\n",
    "\n",
    "    url = 'http://data.krx.co.kr/comm/bldAttendant/getJsonData.cmd'\n",
    "\n",
    "    data = {'bld': 'dbms/MDC/STAT/standard/MDCSTAT01501',\n",
    "            'locale': 'ko_KR',\n",
    "            'mktId': 'ALL',\n",
    "            'trdDd': date,\n",
    "            'share': '1',\n",
    "            'money': '1',\n",
    "            'csvxls_isNo': 'false'}\n",
    "\n",
    "    response = requests.post(url, data=data)  ### get이 아님에 유의\n",
    "    stock_data = response.json()['OutBlock_1']  ### 불러온 정보를 json으로 추출하면 dict()구조인데 원하는 정보는 key:'output'에 있다.\n",
    "\n",
    "    return stock_data"
   ],
   "metadata": {
    "collapsed": false,
    "pycharm": {
     "name": "#%%\n"
    }
   }
  },
  {
   "cell_type": "code",
   "execution_count": 30,
   "outputs": [],
   "source": [
    "def send_stock_info(today):\n",
    "    smtp = smtplib.SMTP_SSL(\"smtp.gmail.com\", 465)\n",
    "    id = \"Gmail Address\"\n",
    "    pw = \"app password\"  # fytqladsnkwfdorg\n",
    "    smtp.login(id, pw)\n",
    "    email_from = id\n",
    "    email_to = \"charkim@naver.com\"\n",
    "    email_date = formatdate(localtime=True)\n",
    "    email_subject = today + \" KOSPI 주식 현황\"\n",
    "    email_message_html = \"\"\"안녕하세요. <br>\n",
    "    <h1> 오늘자 KOSPI 주식 현황을 보고서를 첨부합니다. </h1>\n",
    "    <p><span style=\"font-weight:bold\">감사합니다.</span> </p>\n",
    "    \"\"\"\n",
    "    msg = MIMEMultipart('mixed')\n",
    "    # 보내는 사람\n",
    "    msg['From'] = email_from\n",
    "    # 받는 사람\n",
    "    msg['To'] = email_to\n",
    "    # 날짜\n",
    "    msg['Date'] = email_date\n",
    "    # 제목\n",
    "    msg['Subject'] = email_subject\n",
    "    # 본문 추가 (html형식으로 인코딩 방식은 utf-8)\n",
    "    msg.attach(MIMEText(email_message_html, \"html\", _charset=\"utf-8\"))\n",
    "    # msg.attach(MIMEText(email_message))\n",
    "\n",
    "    # 실제 파일 경로를 open함수로 read 한다.\n",
    "    filename = \"kospi_\" + today + \".csv\"\n",
    "    target_file = \"./\" + filename\n",
    "    with open(target_file, \"rb\") as attach_file:\n",
    "        # application, octet-stream은 모든 종류의 파일을 전송할 때 사용하는 타입\n",
    "        file_data = MIMEBase(\"application\", \"octet-stream\")\n",
    "        file_data.set_payload(attach_file.read())\n",
    "        encode_base64(file_data)\n",
    "        # add_header에 filename를 전달해야 첨부된 파일명이 보입니다.\n",
    "        file_data.add_header('Content-Disposition', 'attachment', filename=filename)\n",
    "        msg.attach(file_data)\n",
    "\n",
    "    smtp.sendmail(id, email_to, msg.as_string())"
   ],
   "metadata": {
    "collapsed": false,
    "pycharm": {
     "name": "#%%\n"
    }
   }
  },
  {
   "cell_type": "code",
   "execution_count": 31,
   "outputs": [],
   "source": [
    "stock_data = get_stock_indices(today)\n",
    "data = pd.DataFrame(stock_data)"
   ],
   "metadata": {
    "collapsed": false,
    "pycharm": {
     "name": "#%%\n"
    }
   }
  },
  {
   "cell_type": "code",
   "execution_count": 32,
   "outputs": [
    {
     "data": {
      "text/plain": "     ISU_SRT_CD ISU_ABBRV  MKT_NM SECT_TP_NM TDD_CLSPRC FLUC_TP_CD  \\\n0        060310        3S  KOSDAQ      중견기업부          -          3   \n1        095570    AJ네트웍스   KOSPI                     -          3   \n2        006840     AK홀딩스   KOSPI                     -          3   \n3        054620    APS홀딩스  KOSDAQ      중견기업부          -          3   \n4        265520     AP시스템  KOSDAQ      우량기업부          -          3   \n...         ...       ...     ...        ...        ...        ...   \n2619     000547   흥국화재2우B   KOSPI                     -          3   \n2620     000545     흥국화재우   KOSPI                     -          3   \n2621     003280      흥아해운   KOSPI                     -          3   \n2622     037440        희림  KOSDAQ      우량기업부          -          3   \n2623     238490        힘스  KOSDAQ      우량기업부          -          3   \n\n     CMPPREVDD_PRC FLUC_RT TDD_OPNPRC TDD_HGPRC TDD_LWPRC ACC_TRDVOL  \\\n0                -       -          -         -         -          -   \n1                -       -          -         -         -          -   \n2                -       -          -         -         -          -   \n3                -       -          -         -         -          -   \n4                -       -          -         -         -          -   \n...            ...     ...        ...       ...       ...        ...   \n2619             -       -          -         -         -          -   \n2620             -       -          -         -         -          -   \n2621             -       -          -         -         -          -   \n2622             -       -          -         -         -          -   \n2623             -       -          -         -         -          -   \n\n     ACC_TRDVAL MKTCAP    LIST_SHRS MKT_ID  \n0             -      -   46,271,513    KSQ  \n1             -      -   46,822,295    STK  \n2             -      -   13,247,561    STK  \n3             -      -   20,394,221    KSQ  \n4             -      -   15,281,421    KSQ  \n...         ...    ...          ...    ...  \n2619          -      -      153,600    STK  \n2620          -      -      768,000    STK  \n2621          -      -  240,424,899    STK  \n2622          -      -   13,922,475    KSQ  \n2623          -      -   11,312,236    KSQ  \n\n[2624 rows x 16 columns]",
      "text/html": "<div>\n<style scoped>\n    .dataframe tbody tr th:only-of-type {\n        vertical-align: middle;\n    }\n\n    .dataframe tbody tr th {\n        vertical-align: top;\n    }\n\n    .dataframe thead th {\n        text-align: right;\n    }\n</style>\n<table border=\"1\" class=\"dataframe\">\n  <thead>\n    <tr style=\"text-align: right;\">\n      <th></th>\n      <th>ISU_SRT_CD</th>\n      <th>ISU_ABBRV</th>\n      <th>MKT_NM</th>\n      <th>SECT_TP_NM</th>\n      <th>TDD_CLSPRC</th>\n      <th>FLUC_TP_CD</th>\n      <th>CMPPREVDD_PRC</th>\n      <th>FLUC_RT</th>\n      <th>TDD_OPNPRC</th>\n      <th>TDD_HGPRC</th>\n      <th>TDD_LWPRC</th>\n      <th>ACC_TRDVOL</th>\n      <th>ACC_TRDVAL</th>\n      <th>MKTCAP</th>\n      <th>LIST_SHRS</th>\n      <th>MKT_ID</th>\n    </tr>\n  </thead>\n  <tbody>\n    <tr>\n      <th>0</th>\n      <td>060310</td>\n      <td>3S</td>\n      <td>KOSDAQ</td>\n      <td>중견기업부</td>\n      <td>-</td>\n      <td>3</td>\n      <td>-</td>\n      <td>-</td>\n      <td>-</td>\n      <td>-</td>\n      <td>-</td>\n      <td>-</td>\n      <td>-</td>\n      <td>-</td>\n      <td>46,271,513</td>\n      <td>KSQ</td>\n    </tr>\n    <tr>\n      <th>1</th>\n      <td>095570</td>\n      <td>AJ네트웍스</td>\n      <td>KOSPI</td>\n      <td></td>\n      <td>-</td>\n      <td>3</td>\n      <td>-</td>\n      <td>-</td>\n      <td>-</td>\n      <td>-</td>\n      <td>-</td>\n      <td>-</td>\n      <td>-</td>\n      <td>-</td>\n      <td>46,822,295</td>\n      <td>STK</td>\n    </tr>\n    <tr>\n      <th>2</th>\n      <td>006840</td>\n      <td>AK홀딩스</td>\n      <td>KOSPI</td>\n      <td></td>\n      <td>-</td>\n      <td>3</td>\n      <td>-</td>\n      <td>-</td>\n      <td>-</td>\n      <td>-</td>\n      <td>-</td>\n      <td>-</td>\n      <td>-</td>\n      <td>-</td>\n      <td>13,247,561</td>\n      <td>STK</td>\n    </tr>\n    <tr>\n      <th>3</th>\n      <td>054620</td>\n      <td>APS홀딩스</td>\n      <td>KOSDAQ</td>\n      <td>중견기업부</td>\n      <td>-</td>\n      <td>3</td>\n      <td>-</td>\n      <td>-</td>\n      <td>-</td>\n      <td>-</td>\n      <td>-</td>\n      <td>-</td>\n      <td>-</td>\n      <td>-</td>\n      <td>20,394,221</td>\n      <td>KSQ</td>\n    </tr>\n    <tr>\n      <th>4</th>\n      <td>265520</td>\n      <td>AP시스템</td>\n      <td>KOSDAQ</td>\n      <td>우량기업부</td>\n      <td>-</td>\n      <td>3</td>\n      <td>-</td>\n      <td>-</td>\n      <td>-</td>\n      <td>-</td>\n      <td>-</td>\n      <td>-</td>\n      <td>-</td>\n      <td>-</td>\n      <td>15,281,421</td>\n      <td>KSQ</td>\n    </tr>\n    <tr>\n      <th>...</th>\n      <td>...</td>\n      <td>...</td>\n      <td>...</td>\n      <td>...</td>\n      <td>...</td>\n      <td>...</td>\n      <td>...</td>\n      <td>...</td>\n      <td>...</td>\n      <td>...</td>\n      <td>...</td>\n      <td>...</td>\n      <td>...</td>\n      <td>...</td>\n      <td>...</td>\n      <td>...</td>\n    </tr>\n    <tr>\n      <th>2619</th>\n      <td>000547</td>\n      <td>흥국화재2우B</td>\n      <td>KOSPI</td>\n      <td></td>\n      <td>-</td>\n      <td>3</td>\n      <td>-</td>\n      <td>-</td>\n      <td>-</td>\n      <td>-</td>\n      <td>-</td>\n      <td>-</td>\n      <td>-</td>\n      <td>-</td>\n      <td>153,600</td>\n      <td>STK</td>\n    </tr>\n    <tr>\n      <th>2620</th>\n      <td>000545</td>\n      <td>흥국화재우</td>\n      <td>KOSPI</td>\n      <td></td>\n      <td>-</td>\n      <td>3</td>\n      <td>-</td>\n      <td>-</td>\n      <td>-</td>\n      <td>-</td>\n      <td>-</td>\n      <td>-</td>\n      <td>-</td>\n      <td>-</td>\n      <td>768,000</td>\n      <td>STK</td>\n    </tr>\n    <tr>\n      <th>2621</th>\n      <td>003280</td>\n      <td>흥아해운</td>\n      <td>KOSPI</td>\n      <td></td>\n      <td>-</td>\n      <td>3</td>\n      <td>-</td>\n      <td>-</td>\n      <td>-</td>\n      <td>-</td>\n      <td>-</td>\n      <td>-</td>\n      <td>-</td>\n      <td>-</td>\n      <td>240,424,899</td>\n      <td>STK</td>\n    </tr>\n    <tr>\n      <th>2622</th>\n      <td>037440</td>\n      <td>희림</td>\n      <td>KOSDAQ</td>\n      <td>우량기업부</td>\n      <td>-</td>\n      <td>3</td>\n      <td>-</td>\n      <td>-</td>\n      <td>-</td>\n      <td>-</td>\n      <td>-</td>\n      <td>-</td>\n      <td>-</td>\n      <td>-</td>\n      <td>13,922,475</td>\n      <td>KSQ</td>\n    </tr>\n    <tr>\n      <th>2623</th>\n      <td>238490</td>\n      <td>힘스</td>\n      <td>KOSDAQ</td>\n      <td>우량기업부</td>\n      <td>-</td>\n      <td>3</td>\n      <td>-</td>\n      <td>-</td>\n      <td>-</td>\n      <td>-</td>\n      <td>-</td>\n      <td>-</td>\n      <td>-</td>\n      <td>-</td>\n      <td>11,312,236</td>\n      <td>KSQ</td>\n    </tr>\n  </tbody>\n</table>\n<p>2624 rows × 16 columns</p>\n</div>"
     },
     "execution_count": 32,
     "metadata": {},
     "output_type": "execute_result"
    }
   ],
   "source": [
    "data"
   ],
   "metadata": {
    "collapsed": false,
    "pycharm": {
     "name": "#%%\n"
    }
   }
  },
  {
   "cell_type": "code",
   "execution_count": 33,
   "outputs": [],
   "source": [
    "data_kospi = data[data.MKT_NM == 'KOSPI'].sort_values(by=['ISU_SRT_CD'])"
   ],
   "metadata": {
    "collapsed": false,
    "pycharm": {
     "name": "#%%\n"
    }
   }
  },
  {
   "cell_type": "code",
   "execution_count": 34,
   "outputs": [
    {
     "data": {
      "text/plain": "     ISU_SRT_CD   ISU_ABBRV MKT_NM SECT_TP_NM TDD_CLSPRC FLUC_TP_CD  \\\n631      000020        동화약품  KOSPI                     -          3   \n136      000040       KR모터스  KOSPI                     -          3   \n290      000050          경방  KOSPI                     -          3   \n789      000060       메리츠화재  KOSPI                     -          3   \n997      000070       삼양홀딩스  KOSPI                     -          3   \n...         ...         ...    ...        ...        ...        ...   \n228      402340       SK스퀘어  KOSPI                     -          3   \n1221     404990   신한서부티엔디리츠  KOSPI                     -          3   \n2079     417310     코람코더원리츠  KOSPI                     -          3   \n1528     900140    엘브이엠씨홀딩스  KOSPI                     -          3   \n2313     950210  프레스티지바이오파마  KOSPI                     -          3   \n\n     CMPPREVDD_PRC FLUC_RT TDD_OPNPRC TDD_HGPRC TDD_LWPRC ACC_TRDVOL  \\\n631              -       -          -         -         -          -   \n136              -       -          -         -         -          -   \n290              -       -          -         -         -          -   \n789              -       -          -         -         -          -   \n997              -       -          -         -         -          -   \n...            ...     ...        ...       ...       ...        ...   \n228              -       -          -         -         -          -   \n1221             -       -          -         -         -          -   \n2079             -       -          -         -         -          -   \n1528             -       -          -         -         -          -   \n2313             -       -          -         -         -          -   \n\n     ACC_TRDVAL MKTCAP    LIST_SHRS MKT_ID  \n631           -      -   27,931,470    STK  \n136           -      -   96,137,368    STK  \n290           -      -   27,415,270    STK  \n789           -      -  120,625,000    STK  \n997           -      -    8,564,271    STK  \n...         ...    ...          ...    ...  \n228           -      -  141,467,571    STK  \n1221          -      -   55,955,884    STK  \n2079          -      -   40,400,000    STK  \n1528          -      -   99,455,297    STK  \n2313          -      -   60,096,155    STK  \n\n[940 rows x 16 columns]",
      "text/html": "<div>\n<style scoped>\n    .dataframe tbody tr th:only-of-type {\n        vertical-align: middle;\n    }\n\n    .dataframe tbody tr th {\n        vertical-align: top;\n    }\n\n    .dataframe thead th {\n        text-align: right;\n    }\n</style>\n<table border=\"1\" class=\"dataframe\">\n  <thead>\n    <tr style=\"text-align: right;\">\n      <th></th>\n      <th>ISU_SRT_CD</th>\n      <th>ISU_ABBRV</th>\n      <th>MKT_NM</th>\n      <th>SECT_TP_NM</th>\n      <th>TDD_CLSPRC</th>\n      <th>FLUC_TP_CD</th>\n      <th>CMPPREVDD_PRC</th>\n      <th>FLUC_RT</th>\n      <th>TDD_OPNPRC</th>\n      <th>TDD_HGPRC</th>\n      <th>TDD_LWPRC</th>\n      <th>ACC_TRDVOL</th>\n      <th>ACC_TRDVAL</th>\n      <th>MKTCAP</th>\n      <th>LIST_SHRS</th>\n      <th>MKT_ID</th>\n    </tr>\n  </thead>\n  <tbody>\n    <tr>\n      <th>631</th>\n      <td>000020</td>\n      <td>동화약품</td>\n      <td>KOSPI</td>\n      <td></td>\n      <td>-</td>\n      <td>3</td>\n      <td>-</td>\n      <td>-</td>\n      <td>-</td>\n      <td>-</td>\n      <td>-</td>\n      <td>-</td>\n      <td>-</td>\n      <td>-</td>\n      <td>27,931,470</td>\n      <td>STK</td>\n    </tr>\n    <tr>\n      <th>136</th>\n      <td>000040</td>\n      <td>KR모터스</td>\n      <td>KOSPI</td>\n      <td></td>\n      <td>-</td>\n      <td>3</td>\n      <td>-</td>\n      <td>-</td>\n      <td>-</td>\n      <td>-</td>\n      <td>-</td>\n      <td>-</td>\n      <td>-</td>\n      <td>-</td>\n      <td>96,137,368</td>\n      <td>STK</td>\n    </tr>\n    <tr>\n      <th>290</th>\n      <td>000050</td>\n      <td>경방</td>\n      <td>KOSPI</td>\n      <td></td>\n      <td>-</td>\n      <td>3</td>\n      <td>-</td>\n      <td>-</td>\n      <td>-</td>\n      <td>-</td>\n      <td>-</td>\n      <td>-</td>\n      <td>-</td>\n      <td>-</td>\n      <td>27,415,270</td>\n      <td>STK</td>\n    </tr>\n    <tr>\n      <th>789</th>\n      <td>000060</td>\n      <td>메리츠화재</td>\n      <td>KOSPI</td>\n      <td></td>\n      <td>-</td>\n      <td>3</td>\n      <td>-</td>\n      <td>-</td>\n      <td>-</td>\n      <td>-</td>\n      <td>-</td>\n      <td>-</td>\n      <td>-</td>\n      <td>-</td>\n      <td>120,625,000</td>\n      <td>STK</td>\n    </tr>\n    <tr>\n      <th>997</th>\n      <td>000070</td>\n      <td>삼양홀딩스</td>\n      <td>KOSPI</td>\n      <td></td>\n      <td>-</td>\n      <td>3</td>\n      <td>-</td>\n      <td>-</td>\n      <td>-</td>\n      <td>-</td>\n      <td>-</td>\n      <td>-</td>\n      <td>-</td>\n      <td>-</td>\n      <td>8,564,271</td>\n      <td>STK</td>\n    </tr>\n    <tr>\n      <th>...</th>\n      <td>...</td>\n      <td>...</td>\n      <td>...</td>\n      <td>...</td>\n      <td>...</td>\n      <td>...</td>\n      <td>...</td>\n      <td>...</td>\n      <td>...</td>\n      <td>...</td>\n      <td>...</td>\n      <td>...</td>\n      <td>...</td>\n      <td>...</td>\n      <td>...</td>\n      <td>...</td>\n    </tr>\n    <tr>\n      <th>228</th>\n      <td>402340</td>\n      <td>SK스퀘어</td>\n      <td>KOSPI</td>\n      <td></td>\n      <td>-</td>\n      <td>3</td>\n      <td>-</td>\n      <td>-</td>\n      <td>-</td>\n      <td>-</td>\n      <td>-</td>\n      <td>-</td>\n      <td>-</td>\n      <td>-</td>\n      <td>141,467,571</td>\n      <td>STK</td>\n    </tr>\n    <tr>\n      <th>1221</th>\n      <td>404990</td>\n      <td>신한서부티엔디리츠</td>\n      <td>KOSPI</td>\n      <td></td>\n      <td>-</td>\n      <td>3</td>\n      <td>-</td>\n      <td>-</td>\n      <td>-</td>\n      <td>-</td>\n      <td>-</td>\n      <td>-</td>\n      <td>-</td>\n      <td>-</td>\n      <td>55,955,884</td>\n      <td>STK</td>\n    </tr>\n    <tr>\n      <th>2079</th>\n      <td>417310</td>\n      <td>코람코더원리츠</td>\n      <td>KOSPI</td>\n      <td></td>\n      <td>-</td>\n      <td>3</td>\n      <td>-</td>\n      <td>-</td>\n      <td>-</td>\n      <td>-</td>\n      <td>-</td>\n      <td>-</td>\n      <td>-</td>\n      <td>-</td>\n      <td>40,400,000</td>\n      <td>STK</td>\n    </tr>\n    <tr>\n      <th>1528</th>\n      <td>900140</td>\n      <td>엘브이엠씨홀딩스</td>\n      <td>KOSPI</td>\n      <td></td>\n      <td>-</td>\n      <td>3</td>\n      <td>-</td>\n      <td>-</td>\n      <td>-</td>\n      <td>-</td>\n      <td>-</td>\n      <td>-</td>\n      <td>-</td>\n      <td>-</td>\n      <td>99,455,297</td>\n      <td>STK</td>\n    </tr>\n    <tr>\n      <th>2313</th>\n      <td>950210</td>\n      <td>프레스티지바이오파마</td>\n      <td>KOSPI</td>\n      <td></td>\n      <td>-</td>\n      <td>3</td>\n      <td>-</td>\n      <td>-</td>\n      <td>-</td>\n      <td>-</td>\n      <td>-</td>\n      <td>-</td>\n      <td>-</td>\n      <td>-</td>\n      <td>60,096,155</td>\n      <td>STK</td>\n    </tr>\n  </tbody>\n</table>\n<p>940 rows × 16 columns</p>\n</div>"
     },
     "execution_count": 34,
     "metadata": {},
     "output_type": "execute_result"
    }
   ],
   "source": [
    "data_kospi"
   ],
   "metadata": {
    "collapsed": false,
    "pycharm": {
     "name": "#%%\n"
    }
   }
  },
  {
   "cell_type": "code",
   "execution_count": 35,
   "outputs": [],
   "source": [
    "final = \"kospi_\" + today + \".csv\"\n",
    "data_kospi.to_csv(final, index=None, header=True)"
   ],
   "metadata": {
    "collapsed": false,
    "pycharm": {
     "name": "#%%\n"
    }
   }
  },
  {
   "cell_type": "code",
   "execution_count": 36,
   "outputs": [],
   "source": [
    "send_stock_info(today)"
   ],
   "metadata": {
    "collapsed": false,
    "pycharm": {
     "name": "#%%\n"
    }
   }
  },
  {
   "cell_type": "code",
   "execution_count": null,
   "outputs": [],
   "source": [],
   "metadata": {
    "collapsed": false,
    "pycharm": {
     "name": "#%%\n"
    }
   }
  }
 ],
 "metadata": {
  "kernelspec": {
   "display_name": "Python 3",
   "language": "python",
   "name": "python3"
  },
  "language_info": {
   "codemirror_mode": {
    "name": "ipython",
    "version": 2
   },
   "file_extension": ".py",
   "mimetype": "text/x-python",
   "name": "python",
   "nbconvert_exporter": "python",
   "pygments_lexer": "ipython2",
   "version": "2.7.6"
  }
 },
 "nbformat": 4,
 "nbformat_minor": 0
}